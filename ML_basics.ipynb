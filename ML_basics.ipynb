{
 "cells": [
  {
   "cell_type": "markdown",
   "id": "1ae480bb",
   "metadata": {},
   "source": [
    "# ML BASICS\n"
   ]
  },
  {
   "cell_type": "markdown",
   "id": "7ae177f4",
   "metadata": {},
   "source": [
    "**Artificial Intelligence (AI)**: AI is like making computers smart so they can do tasks that usually need human intelligence, such as understanding language, recognizing patterns, and making decisions.\n",
    "\n",
    "**Machine Learning (ML)**: ML is a way for computers to learn from data without being explicitly programmed. It's like training a computer to make predictions or decisions by showing it examples.\n",
    "\n",
    "**Deep Learning (DL)**: DL is a type of ML that uses neural networks with many layers to learn and understand complex patterns. It's like teaching a computer to think in layers, helping it grasp intricate details for tasks like image and speech recognition."
   ]
  },
  {
   "cell_type": "markdown",
   "id": "0cf700fd",
   "metadata": {},
   "source": [
    "**TYPES OF ML**\n",
    "\n",
    "\n",
    "**Supervised Learning (SL)**: In supervised learning, the computer is given labeled examples to learn from. It's like a teacher guiding a student. An example is teaching a computer to recognize cats and dogs by showing it pictures of cats (labeled as \"cat\") and dogs (labeled as \"dog\").\n",
    "\n",
    "**Unsupervised Learning (UL)**: In unsupervised learning, the computer explores data without explicit labels. It's like the computer discovering patterns on its own. An example is clustering similar customer preferences in an online store without telling the computer what each group represents.\n",
    "\n",
    "**Reinforcement Learning (RL)**: In reinforcement learning, the computer learns by trial and error, getting rewards or penalties. It's like teaching a dog new tricks through treats (rewards) or withholding treats (penalties). An example is training a computer program to play a game, where it learns the best moves based on winning or losing."
   ]
  },
  {
   "cell_type": "markdown",
   "id": "2893f46c",
   "metadata": {},
   "source": [
    "**TYPES OF SUPERVISED LEARNING**\n",
    "\n",
    "\n",
    "**Classification**:computer learns to categorize input into distinct classes. Example: Teaching a model to classify emails as either spam or not spam based on historical labeled data.\n",
    "\n",
    "**ALGORITHMS**\n",
    "->Decision Tree \n",
    "->Random Forest \n",
    "->K nearest neighbor\n",
    "\n",
    "\n",
    "\n",
    "**Regression**:computer predicts a continuous output based on input features. Example: Training a model to predict house prices based on features like square footage, number of bedrooms, and location.\n",
    "\n",
    "**ALGORITHMS**\n",
    "->Logistic Regression \n",
    "->Polynomial Regression \n",
    "->supoort Vector Machines"
   ]
  },
  {
   "cell_type": "markdown",
   "id": "5c488264",
   "metadata": {},
   "source": [
    "**TYPES OF UNSUPERVISED LEARNING**\n",
    "\n",
    "**Clustering**:computer identifies natural groupings in data without explicit labels. Example: Grouping customers based on their purchasing behavior to discover market segments in an e-commerce dataset.\n",
    "\n",
    "**Association**:computer discovers relationships between data points. Example: Analyzing shopping cart data to find patterns like customers who buy bread are also likely to buy butter, uncovering associations in consumer preferences.\n",
    "\n",
    "**ALGOS**\n",
    "->K-Means Clustering\n",
    "->Hierarchical Clustering  and   many more....."
   ]
  },
  {
   "cell_type": "code",
   "execution_count": null,
   "id": "81daec9e",
   "metadata": {},
   "outputs": [],
   "source": []
  }
 ],
 "metadata": {
  "kernelspec": {
   "display_name": "Python 3 (ipykernel)",
   "language": "python",
   "name": "python3"
  },
  "language_info": {
   "codemirror_mode": {
    "name": "ipython",
    "version": 3
   },
   "file_extension": ".py",
   "mimetype": "text/x-python",
   "name": "python",
   "nbconvert_exporter": "python",
   "pygments_lexer": "ipython3",
   "version": "3.10.9"
  }
 },
 "nbformat": 4,
 "nbformat_minor": 5
}
