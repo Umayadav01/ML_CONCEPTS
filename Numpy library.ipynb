{
 "cells": [
  {
   "cell_type": "markdown",
   "id": "90b9c30d",
   "metadata": {},
   "source": [
    "# Numpy\n",
    "NumPy is a Python library that performs numerical calculations. It is generally used for working with arrays.\n",
    "\n",
    "\n",
    "Advantages of numpy arrays-\n",
    "\n",
    "1.Numpy uses less memory and storage space, which is the main advantage.\n",
    "\n",
    "2.NumPy offers better performance in terms of execution speed.          "
   ]
  },
  {
   "cell_type": "code",
   "execution_count": 1,
   "id": "582bd943",
   "metadata": {},
   "outputs": [],
   "source": [
    "import numpy as np"
   ]
  },
  {
   "cell_type": "markdown",
   "id": "b463101a",
   "metadata": {},
   "source": [
    "# comparing time taken  by list  vs numpy"
   ]
  },
  {
   "cell_type": "code",
   "execution_count": 2,
   "id": "e61f7a61",
   "metadata": {},
   "outputs": [],
   "source": [
    "from time import process_time"
   ]
  },
  {
   "cell_type": "code",
   "execution_count": 3,
   "id": "bbe0d38b",
   "metadata": {},
   "outputs": [
    {
     "name": "stdout",
     "output_type": "stream",
     "text": [
      "0.03125\n"
     ]
    }
   ],
   "source": [
    "li=[i for i in range(200000)]\n",
    "start_time=process_time()\n",
    "li=[i+3 for i in li]\n",
    "end_time=process_time()\n",
    "print(end_time - start_time)"
   ]
  },
  {
   "cell_type": "code",
   "execution_count": 4,
   "id": "9017997b",
   "metadata": {},
   "outputs": [
    {
     "name": "stdout",
     "output_type": "stream",
     "text": [
      "0.0\n"
     ]
    }
   ],
   "source": [
    "np_array=np.array([i for i in range(200000)])\n",
    "start_time=process_time()\n",
    "np_array +=3\n",
    "end_time=process_time()\n",
    "print(end_time - start_time)"
   ]
  },
  {
   "cell_type": "markdown",
   "id": "fc4541ab",
   "metadata": {},
   "source": [
    "# Numpy Array"
   ]
  },
  {
   "cell_type": "code",
   "execution_count": 5,
   "id": "5e93909d",
   "metadata": {},
   "outputs": [
    {
     "name": "stdout",
     "output_type": "stream",
     "text": [
      "[1, 2, 3, 4, 5, 6]\n"
     ]
    },
    {
     "data": {
      "text/plain": [
       "list"
      ]
     },
     "execution_count": 5,
     "metadata": {},
     "output_type": "execute_result"
    }
   ],
   "source": [
    "li=[1,2,3,4,5,6]\n",
    "print(li)\n",
    "type(li)"
   ]
  },
  {
   "cell_type": "code",
   "execution_count": 6,
   "id": "6b9f7882",
   "metadata": {},
   "outputs": [
    {
     "name": "stdout",
     "output_type": "stream",
     "text": [
      "[1 2 3 4 5 6]\n"
     ]
    },
    {
     "data": {
      "text/plain": [
       "numpy.ndarray"
      ]
     },
     "execution_count": 6,
     "metadata": {},
     "output_type": "execute_result"
    }
   ],
   "source": [
    "np_array=np.array([1,2,3,4,5,6])\n",
    "print(np_array)\n",
    "type(np_array)    #nd=n dimention array"
   ]
  },
  {
   "cell_type": "code",
   "execution_count": 7,
   "id": "c863856c",
   "metadata": {},
   "outputs": [
    {
     "name": "stdout",
     "output_type": "stream",
     "text": [
      "[7 9 6 9 3]\n"
     ]
    },
    {
     "data": {
      "text/plain": [
       "(5,)"
      ]
     },
     "execution_count": 7,
     "metadata": {},
     "output_type": "execute_result"
    }
   ],
   "source": [
    "#creating 1 d array\n",
    "a=np.array([7,9,6,9,3])\n",
    "print(a)\n",
    "a.shape"
   ]
  },
  {
   "cell_type": "code",
   "execution_count": 8,
   "id": "e5c46cd8",
   "metadata": {},
   "outputs": [
    {
     "name": "stdout",
     "output_type": "stream",
     "text": [
      "[[7 9 6 9 3]\n",
      " [8 2 4 8 0]]\n"
     ]
    },
    {
     "data": {
      "text/plain": [
       "(2, 5)"
      ]
     },
     "execution_count": 8,
     "metadata": {},
     "output_type": "execute_result"
    }
   ],
   "source": [
    "#creating 2 d array\n",
    "a=np.array([(7,9,6,9,3),(8,2,4,8,0)])\n",
    "print(a)\n",
    "a.shape"
   ]
  },
  {
   "cell_type": "code",
   "execution_count": 9,
   "id": "f4144a43",
   "metadata": {},
   "outputs": [
    {
     "name": "stdout",
     "output_type": "stream",
     "text": [
      "[[ 7. 99.  6.  9.  3.]\n",
      " [ 8.  2.  4.  8.  0.]]\n"
     ]
    }
   ],
   "source": [
    "b=np.array([(7,99,6,9,3),(8,2,4,8,0)],dtype=float)\n",
    "print(b)"
   ]
  },
  {
   "cell_type": "code",
   "execution_count": 10,
   "id": "79e2d9f8",
   "metadata": {},
   "outputs": [
    {
     "name": "stdout",
     "output_type": "stream",
     "text": [
      "[[0 0 0 0 0]\n",
      " [0 0 0 0 0]\n",
      " [0 0 0 0 0]\n",
      " [0 0 0 0 0]]\n"
     ]
    }
   ],
   "source": [
    "#initial placeholders in numpy arrays\n",
    "x=np.zeros((4,5),dtype=int)\n",
    "print(x)"
   ]
  },
  {
   "cell_type": "code",
   "execution_count": 11,
   "id": "527cd901",
   "metadata": {},
   "outputs": [
    {
     "name": "stdout",
     "output_type": "stream",
     "text": [
      "[[1 1 1 1 1 1 1 1]\n",
      " [1 1 1 1 1 1 1 1]\n",
      " [1 1 1 1 1 1 1 1]]\n"
     ]
    }
   ],
   "source": [
    "y=np.ones((3,8),dtype=int)\n",
    "print(y)"
   ]
  },
  {
   "cell_type": "code",
   "execution_count": 12,
   "id": "759bad93",
   "metadata": {},
   "outputs": [
    {
     "name": "stdout",
     "output_type": "stream",
     "text": [
      "[[6 6 6 6 6 6 6]\n",
      " [6 6 6 6 6 6 6]\n",
      " [6 6 6 6 6 6 6]\n",
      " [6 6 6 6 6 6 6]\n",
      " [6 6 6 6 6 6 6]\n",
      " [6 6 6 6 6 6 6]\n",
      " [6 6 6 6 6 6 6]]\n"
     ]
    }
   ],
   "source": [
    "#array of particular values\n",
    "z=np.full((7,7),6)\n",
    "print(z)"
   ]
  },
  {
   "cell_type": "code",
   "execution_count": 13,
   "id": "c8b4776e",
   "metadata": {},
   "outputs": [
    {
     "name": "stdout",
     "output_type": "stream",
     "text": [
      "[[1. 0. 0. 0.]\n",
      " [0. 1. 0. 0.]\n",
      " [0. 0. 1. 0.]\n",
      " [0. 0. 0. 1.]]\n"
     ]
    }
   ],
   "source": [
    "#create an identity matrix(n*n matrix with all diagonal elements as 1 and remaining as 0)\n",
    "a=np.eye(4)\n",
    "print(a)"
   ]
  },
  {
   "cell_type": "code",
   "execution_count": 14,
   "id": "1ec9ec41",
   "metadata": {},
   "outputs": [
    {
     "name": "stdout",
     "output_type": "stream",
     "text": [
      "[[0.71820115 0.55041663 0.01347781 0.66516596]\n",
      " [0.84327778 0.28979679 0.89257978 0.77284297]\n",
      " [0.11359784 0.84347436 0.70648204 0.24980123]\n",
      " [0.1400364  0.0661479  0.36766988 0.49012564]]\n"
     ]
    }
   ],
   "source": [
    "#numpy array with random values(between 0 to 1 bydefault)\n",
    "a=np.random.random((4,4))\n",
    "print(a)"
   ]
  },
  {
   "cell_type": "code",
   "execution_count": 15,
   "id": "3ce1936e",
   "metadata": {},
   "outputs": [
    {
     "name": "stdout",
     "output_type": "stream",
     "text": [
      "[[159 122 132 121]\n",
      " [152 122 152 150]\n",
      " [123 122 147 130]\n",
      " [122 158 151 164]]\n"
     ]
    }
   ],
   "source": [
    "#numpy array with random values(within specific range)\n",
    "b=np.random.randint(120,170,(4,4))\n",
    "print(b)"
   ]
  },
  {
   "cell_type": "code",
   "execution_count": 16,
   "id": "1cc0ea97",
   "metadata": {},
   "outputs": [
    {
     "name": "stdout",
     "output_type": "stream",
     "text": [
      "[ 0.  5. 10. 15. 20.]\n"
     ]
    }
   ],
   "source": [
    "#array of evenly spaced values(specifying how many values are required(5 in this example))\n",
    "a=np.linspace(0,20,5)   # 0 to 20 is the range \n",
    "print(a)"
   ]
  },
  {
   "cell_type": "code",
   "execution_count": 17,
   "id": "ed627026",
   "metadata": {},
   "outputs": [
    {
     "name": "stdout",
     "output_type": "stream",
     "text": [
      "[ 0  5 10 15 20 25 30 35]\n"
     ]
    }
   ],
   "source": [
    "#array of evenly spaced values(specifying how many steps or skips required(5 here))\n",
    "a=np.arange(0,40,5)     #0 to 40 is the range\n",
    "print(a)"
   ]
  },
  {
   "cell_type": "code",
   "execution_count": 18,
   "id": "fd1a6356",
   "metadata": {},
   "outputs": [
    {
     "name": "stdout",
     "output_type": "stream",
     "text": [
      "[40 80 33  5  8 99]\n"
     ]
    },
    {
     "data": {
      "text/plain": [
       "numpy.ndarray"
      ]
     },
     "execution_count": 18,
     "metadata": {},
     "output_type": "execute_result"
    }
   ],
   "source": [
    "#converting a list to numpy array\n",
    "li=[40,80,33,5,8,99]\n",
    "type(li)\n",
    "a=np.asarray(li)\n",
    "print(a)\n",
    "type(a)\n"
   ]
  },
  {
   "cell_type": "markdown",
   "id": "356664a4",
   "metadata": {},
   "source": [
    "# Analysing a numpy array"
   ]
  },
  {
   "cell_type": "code",
   "execution_count": 19,
   "id": "1ed4baab",
   "metadata": {},
   "outputs": [
    {
     "name": "stdout",
     "output_type": "stream",
     "text": [
      "[[36 18 11 46 11]\n",
      " [24 15 42 43 23]\n",
      " [21 16 25 49 39]\n",
      " [14 33 41 38 19]\n",
      " [39 12 46 33 10]]\n"
     ]
    }
   ],
   "source": [
    "x=np.random.randint(10,50,(5,5))\n",
    "print(x)"
   ]
  },
  {
   "cell_type": "code",
   "execution_count": 20,
   "id": "4a9ac2ad",
   "metadata": {},
   "outputs": [
    {
     "data": {
      "text/plain": [
       "(5, 5)"
      ]
     },
     "execution_count": 20,
     "metadata": {},
     "output_type": "execute_result"
    }
   ],
   "source": [
    "x.shape"
   ]
  },
  {
   "cell_type": "code",
   "execution_count": 21,
   "id": "6630a38e",
   "metadata": {},
   "outputs": [
    {
     "data": {
      "text/plain": [
       "2"
      ]
     },
     "execution_count": 21,
     "metadata": {},
     "output_type": "execute_result"
    }
   ],
   "source": [
    "x.ndim"
   ]
  },
  {
   "cell_type": "code",
   "execution_count": 22,
   "id": "eb936b91",
   "metadata": {},
   "outputs": [
    {
     "data": {
      "text/plain": [
       "25"
      ]
     },
     "execution_count": 22,
     "metadata": {},
     "output_type": "execute_result"
    }
   ],
   "source": [
    "#no. of elements in array\n",
    "x.size"
   ]
  },
  {
   "cell_type": "code",
   "execution_count": 23,
   "id": "83e7f3e5",
   "metadata": {},
   "outputs": [
    {
     "name": "stdout",
     "output_type": "stream",
     "text": [
      "int32\n"
     ]
    }
   ],
   "source": [
    "#checking datatype of values in array\n",
    "print(x.dtype)"
   ]
  },
  {
   "cell_type": "markdown",
   "id": "41cc7b30",
   "metadata": {},
   "source": [
    "# Mathematical operations on numpy array"
   ]
  },
  {
   "cell_type": "code",
   "execution_count": 24,
   "id": "b5b9d082",
   "metadata": {},
   "outputs": [
    {
     "name": "stdout",
     "output_type": "stream",
     "text": [
      "[1, 2, 3, 4, 5, 5, 10, 20, 30, 4, 5, 50]\n"
     ]
    }
   ],
   "source": [
    "li1=[1,2,3,4,5,5]\n",
    "li2=[10,20,30,4,5,50]\n",
    "print(li1+li2)   #will just concatinate/join"
   ]
  },
  {
   "cell_type": "code",
   "execution_count": 25,
   "id": "a9ad266d",
   "metadata": {},
   "outputs": [
    {
     "name": "stdout",
     "output_type": "stream",
     "text": [
      "[11 22 33  8 10 60]\n"
     ]
    }
   ],
   "source": [
    "a=np.array([1,2,3,4,5,5])\n",
    "b=np.array([10,20,30,4,5,55])\n",
    "print(a+b)"
   ]
  },
  {
   "cell_type": "code",
   "execution_count": 26,
   "id": "7fcdca0b",
   "metadata": {},
   "outputs": [
    {
     "name": "stdout",
     "output_type": "stream",
     "text": [
      "[ -9 -18 -27   0   0 -50]\n"
     ]
    }
   ],
   "source": [
    "print(a-b)"
   ]
  },
  {
   "cell_type": "code",
   "execution_count": 27,
   "id": "aaa929de",
   "metadata": {},
   "outputs": [
    {
     "name": "stdout",
     "output_type": "stream",
     "text": [
      "[10. 10. 10.  1.  1. 11.]\n"
     ]
    }
   ],
   "source": [
    "print(b/a)"
   ]
  },
  {
   "cell_type": "code",
   "execution_count": 28,
   "id": "03cf0bbd",
   "metadata": {},
   "outputs": [
    {
     "name": "stdout",
     "output_type": "stream",
     "text": [
      "[ 10  40  90  16  25 275]\n"
     ]
    }
   ],
   "source": [
    "print(a*b)"
   ]
  },
  {
   "cell_type": "code",
   "execution_count": 29,
   "id": "f4ad11fd",
   "metadata": {},
   "outputs": [
    {
     "name": "stdout",
     "output_type": "stream",
     "text": [
      "[11 22 33  8 10 60]\n",
      "[ -9 -18 -27   0   0 -50]\n",
      "[ 10  40  90  16  25 275]\n",
      "[10. 10. 10.  1.  1. 11.]\n"
     ]
    }
   ],
   "source": [
    "#OR by using functions\n",
    "sum=np.add(a,b)\n",
    "print(sum)\n",
    "sub=np.subtract(a,b)\n",
    "print(sub)\n",
    "mult=np.multiply(a,b)\n",
    "print(mult)\n",
    "div=np.divide(b,a)\n",
    "print(div)"
   ]
  },
  {
   "cell_type": "markdown",
   "id": "f6933f06",
   "metadata": {},
   "source": [
    "# Array manipulation"
   ]
  },
  {
   "cell_type": "code",
   "execution_count": 30,
   "id": "db5000f6",
   "metadata": {},
   "outputs": [
    {
     "name": "stdout",
     "output_type": "stream",
     "text": [
      "[[33 55 16 87 96]\n",
      " [99 63 34 26 79]]\n"
     ]
    }
   ],
   "source": [
    "a=np.random.randint(10,100,(2,5))\n",
    "print(a)"
   ]
  },
  {
   "cell_type": "code",
   "execution_count": 31,
   "id": "3c4b059b",
   "metadata": {},
   "outputs": [
    {
     "name": "stdout",
     "output_type": "stream",
     "text": [
      "[[33 99]\n",
      " [55 63]\n",
      " [16 34]\n",
      " [87 26]\n",
      " [96 79]]\n"
     ]
    }
   ],
   "source": [
    "#transpose\n",
    "trans=np.transpose(a)\n",
    "print(trans)\n"
   ]
  },
  {
   "cell_type": "code",
   "execution_count": 32,
   "id": "e30eb144",
   "metadata": {},
   "outputs": [
    {
     "name": "stdout",
     "output_type": "stream",
     "text": [
      "[[33 99]\n",
      " [55 63]\n",
      " [16 34]\n",
      " [87 26]\n",
      " [96 79]]\n"
     ]
    }
   ],
   "source": [
    "#or by \n",
    "trans1=a.T\n",
    "print(trans1)"
   ]
  },
  {
   "cell_type": "code",
   "execution_count": null,
   "id": "3418519b",
   "metadata": {},
   "outputs": [],
   "source": [
    "\n"
   ]
  },
  {
   "cell_type": "code",
   "execution_count": null,
   "id": "6811ee62",
   "metadata": {},
   "outputs": [],
   "source": []
  },
  {
   "cell_type": "code",
   "execution_count": null,
   "id": "d8c76a5d",
   "metadata": {},
   "outputs": [],
   "source": []
  }
 ],
 "metadata": {
  "kernelspec": {
   "display_name": "Python 3 (ipykernel)",
   "language": "python",
   "name": "python3"
  },
  "language_info": {
   "codemirror_mode": {
    "name": "ipython",
    "version": 3
   },
   "file_extension": ".py",
   "mimetype": "text/x-python",
   "name": "python",
   "nbconvert_exporter": "python",
   "pygments_lexer": "ipython3",
   "version": "3.10.9"
  }
 },
 "nbformat": 4,
 "nbformat_minor": 5
}
