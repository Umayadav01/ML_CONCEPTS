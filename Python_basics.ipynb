{
 "cells": [
  {
   "cell_type": "markdown",
   "id": "af9ec050",
   "metadata": {},
   "source": [
    "# Python Basics"
   ]
  },
  {
   "cell_type": "code",
   "execution_count": 1,
   "id": "07660b27",
   "metadata": {},
   "outputs": [
    {
     "name": "stdout",
     "output_type": "stream",
     "text": [
      "Hello World\n"
     ]
    }
   ],
   "source": [
    "print('Hello World')"
   ]
  },
  {
   "cell_type": "code",
   "execution_count": 2,
   "id": "e9942ca4",
   "metadata": {},
   "outputs": [
    {
     "name": "stdout",
     "output_type": "stream",
     "text": [
      "hello world\n"
     ]
    }
   ],
   "source": [
    "print('hello'+ ' world')"
   ]
  },
  {
   "cell_type": "code",
   "execution_count": 3,
   "id": "42a0ed63",
   "metadata": {},
   "outputs": [
    {
     "name": "stdout",
     "output_type": "stream",
     "text": [
      "-3\n"
     ]
    }
   ],
   "source": [
    "print(3-6)"
   ]
  },
  {
   "cell_type": "code",
   "execution_count": 4,
   "id": "4f954e80",
   "metadata": {},
   "outputs": [
    {
     "name": "stdout",
     "output_type": "stream",
     "text": [
      "0.375\n"
     ]
    }
   ],
   "source": [
    "print(3/8)"
   ]
  },
  {
   "cell_type": "code",
   "execution_count": 5,
   "id": "98b5f4c6",
   "metadata": {},
   "outputs": [
    {
     "name": "stdout",
     "output_type": "stream",
     "text": [
      "24\n"
     ]
    }
   ],
   "source": [
    "print(3*8)"
   ]
  },
  {
   "cell_type": "code",
   "execution_count": 6,
   "id": "55124627",
   "metadata": {},
   "outputs": [
    {
     "data": {
      "text/plain": [
       "str"
      ]
     },
     "execution_count": 6,
     "metadata": {},
     "output_type": "execute_result"
    }
   ],
   "source": [
    "#basic data types\n",
    "type('hii')"
   ]
  },
  {
   "cell_type": "code",
   "execution_count": 7,
   "id": "947a88c1",
   "metadata": {},
   "outputs": [
    {
     "data": {
      "text/plain": [
       "float"
      ]
     },
     "execution_count": 7,
     "metadata": {},
     "output_type": "execute_result"
    }
   ],
   "source": [
    "type(6.1)"
   ]
  },
  {
   "cell_type": "code",
   "execution_count": 8,
   "id": "f94e0e42",
   "metadata": {},
   "outputs": [
    {
     "data": {
      "text/plain": [
       "int"
      ]
     },
     "execution_count": 8,
     "metadata": {},
     "output_type": "execute_result"
    }
   ],
   "source": [
    "type(8)"
   ]
  },
  {
   "cell_type": "code",
   "execution_count": 9,
   "id": "32e1d1d0",
   "metadata": {},
   "outputs": [
    {
     "name": "stdout",
     "output_type": "stream",
     "text": [
      "are you good?\n"
     ]
    }
   ],
   "source": [
    "a='are you good?'\n",
    "print(a)"
   ]
  },
  {
   "cell_type": "code",
   "execution_count": 10,
   "id": "38a11242",
   "metadata": {},
   "outputs": [
    {
     "name": "stdout",
     "output_type": "stream",
     "text": [
      "no,i am not.\n"
     ]
    }
   ],
   "source": [
    "a=\"no,i am not.\"\n",
    "print(a)"
   ]
  },
  {
   "cell_type": "code",
   "execution_count": 11,
   "id": "d3e15b6a",
   "metadata": {},
   "outputs": [
    {
     "name": "stdout",
     "output_type": "stream",
     "text": [
      "3\n",
      "9\n",
      "51\n"
     ]
    }
   ],
   "source": [
    "a,b,c=3,9,51\n",
    "print(a)\n",
    "print(b)\n",
    "print(c)"
   ]
  },
  {
   "cell_type": "code",
   "execution_count": 12,
   "id": "6712fabd",
   "metadata": {},
   "outputs": [
    {
     "name": "stdout",
     "output_type": "stream",
     "text": [
      "5\n",
      "5\n"
     ]
    }
   ],
   "source": [
    "a=b=5\n",
    "print(a)\n",
    "print(b)"
   ]
  },
  {
   "cell_type": "code",
   "execution_count": 13,
   "id": "efcf3533",
   "metadata": {},
   "outputs": [
    {
     "name": "stdout",
     "output_type": "stream",
     "text": [
      "Enter your namejh\n",
      "Enter your surnamegf\n",
      "jhgf\n"
     ]
    }
   ],
   "source": [
    "#taking input from the user(scanf)\n",
    "a=input('Enter your name')\n",
    "b=input('Enter your surname')\n",
    "print(a+b)"
   ]
  },
  {
   "cell_type": "code",
   "execution_count": 14,
   "id": "a20b9bed",
   "metadata": {},
   "outputs": [
    {
     "name": "stdout",
     "output_type": "stream",
     "text": [
      "Enter first number9\n",
      "Enter second number7\n",
      "97\n"
     ]
    }
   ],
   "source": [
    "a=input('Enter first number')\n",
    "b=input('Enter second number')\n",
    "print(a+b)"
   ]
  },
  {
   "cell_type": "code",
   "execution_count": 15,
   "id": "e89e9087",
   "metadata": {},
   "outputs": [
    {
     "name": "stdout",
     "output_type": "stream",
     "text": [
      "Enter first number86\n",
      "Enter second number8\n",
      "94\n"
     ]
    }
   ],
   "source": [
    "#datatype conversion\n",
    "a=int(input('Enter first number'))\n",
    "b=int(input('Enter second number'))\n",
    "print(a+b)"
   ]
  },
  {
   "cell_type": "code",
   "execution_count": 16,
   "id": "ca1aca0d",
   "metadata": {},
   "outputs": [
    {
     "name": "stdout",
     "output_type": "stream",
     "text": [
      "7\n"
     ]
    },
    {
     "data": {
      "text/plain": [
       "int"
      ]
     },
     "execution_count": 16,
     "metadata": {},
     "output_type": "execute_result"
    }
   ],
   "source": [
    "#datatyoes\n",
    "#integer\n",
    "a=7\n",
    "print(a)\n",
    "type(a)"
   ]
  },
  {
   "cell_type": "code",
   "execution_count": 17,
   "id": "86e70d43",
   "metadata": {},
   "outputs": [
    {
     "name": "stdout",
     "output_type": "stream",
     "text": [
      "2.9\n"
     ]
    },
    {
     "data": {
      "text/plain": [
       "float"
      ]
     },
     "execution_count": 17,
     "metadata": {},
     "output_type": "execute_result"
    }
   ],
   "source": [
    "#floating point\n",
    "b=2.9\n",
    "print(b)\n",
    "type(b)"
   ]
  },
  {
   "cell_type": "code",
   "execution_count": 18,
   "id": "195dedbf",
   "metadata": {},
   "outputs": [
    {
     "name": "stdout",
     "output_type": "stream",
     "text": [
      "(2+9j)\n"
     ]
    },
    {
     "data": {
      "text/plain": [
       "complex"
      ]
     },
     "execution_count": 18,
     "metadata": {},
     "output_type": "execute_result"
    }
   ],
   "source": [
    "#complex no.\n",
    "c=2+9j\n",
    "print(c)\n",
    "type(c)"
   ]
  },
  {
   "cell_type": "code",
   "execution_count": 19,
   "id": "218e0e18",
   "metadata": {},
   "outputs": [
    {
     "name": "stdout",
     "output_type": "stream",
     "text": [
      "7.0\n"
     ]
    }
   ],
   "source": [
    "#type conversion\n",
    "y=float(a)\n",
    "print(y)"
   ]
  },
  {
   "cell_type": "code",
   "execution_count": 20,
   "id": "863da53d",
   "metadata": {},
   "outputs": [
    {
     "name": "stdout",
     "output_type": "stream",
     "text": [
      "True\n"
     ]
    },
    {
     "data": {
      "text/plain": [
       "bool"
      ]
     },
     "execution_count": 20,
     "metadata": {},
     "output_type": "execute_result"
    }
   ],
   "source": [
    "#boolean datatype\n",
    "x=True\n",
    "print(x)\n",
    "type(x)"
   ]
  },
  {
   "cell_type": "code",
   "execution_count": 21,
   "id": "e8bdaf20",
   "metadata": {},
   "outputs": [
    {
     "name": "stdout",
     "output_type": "stream",
     "text": [
      "True\n"
     ]
    }
   ],
   "source": [
    "a,b=7,12\n",
    "print(a<b)"
   ]
  },
  {
   "cell_type": "code",
   "execution_count": 22,
   "id": "80527c47",
   "metadata": {},
   "outputs": [
    {
     "name": "stdout",
     "output_type": "stream",
     "text": [
      "Ml\n"
     ]
    },
    {
     "data": {
      "text/plain": [
       "str"
      ]
     },
     "execution_count": 22,
     "metadata": {},
     "output_type": "execute_result"
    }
   ],
   "source": [
    "#string\n",
    "a=\"Ml\"\n",
    "print(a)\n",
    "type(a)"
   ]
  },
  {
   "cell_type": "code",
   "execution_count": 23,
   "id": "bc73a651",
   "metadata": {},
   "outputs": [
    {
     "name": "stdout",
     "output_type": "stream",
     "text": [
      "ML ML ML ML ML ML ML ML ML ML \n",
      "ML \n"
     ]
    }
   ],
   "source": [
    "print('ML '*10)\n",
    "print('ML ')"
   ]
  },
  {
   "cell_type": "code",
   "execution_count": 24,
   "id": "f70fd049",
   "metadata": {},
   "outputs": [
    {
     "name": "stdout",
     "output_type": "stream",
     "text": [
      "My Na\n"
     ]
    }
   ],
   "source": [
    "a='My Name is Uma Yadav.'\n",
    "print(a[0:5])   #slicing"
   ]
  },
  {
   "cell_type": "code",
   "execution_count": 25,
   "id": "c2d3be61",
   "metadata": {},
   "outputs": [
    {
     "name": "stdout",
     "output_type": "stream",
     "text": [
      "M aei\n"
     ]
    }
   ],
   "source": [
    "#step(values skipped)\n",
    "print(a[0:10:2])"
   ]
  },
  {
   "cell_type": "code",
   "execution_count": 26,
   "id": "717d2bd1",
   "metadata": {},
   "outputs": [
    {
     "name": "stdout",
     "output_type": "stream",
     "text": [
      ".vadaY amU si emaN yM\n"
     ]
    }
   ],
   "source": [
    "#reversing a string(start from the end and go backward by one step)\n",
    "print(a[::-1])"
   ]
  },
  {
   "cell_type": "code",
   "execution_count": 27,
   "id": "add9893d",
   "metadata": {},
   "outputs": [
    {
     "name": "stdout",
     "output_type": "stream",
     "text": [
      "Machine Learning, Deep Learning\n"
     ]
    }
   ],
   "source": [
    "#string concatenation\n",
    "x='Machine Learning'\n",
    "y= ', Deep Learning'\n",
    "print(x+y)"
   ]
  },
  {
   "cell_type": "markdown",
   "id": "da74012f",
   "metadata": {},
   "source": [
    "# types of objects in python:\n",
    "1.Immutable Objects(whose values can not be changes once created)--> int,float,string,bool,tuple\n",
    "\n",
    "\n",
    "2.Mutable Objects(values can be changes)-->list,set,dictionary"
   ]
  },
  {
   "cell_type": "code",
   "execution_count": 28,
   "id": "28ec2fae",
   "metadata": {},
   "outputs": [
    {
     "name": "stdout",
     "output_type": "stream",
     "text": [
      "[1, 2, 3, 4, 5]\n"
     ]
    },
    {
     "data": {
      "text/plain": [
       "list"
      ]
     },
     "execution_count": 28,
     "metadata": {},
     "output_type": "execute_result"
    }
   ],
   "source": [
    "#List \n",
    "Li=[1,2,3,4,5]\n",
    "print(Li)\n",
    "type(Li)"
   ]
  },
  {
   "cell_type": "code",
   "execution_count": 29,
   "id": "df6d3c56",
   "metadata": {
    "scrolled": true
   },
   "outputs": [
    {
     "name": "stdout",
     "output_type": "stream",
     "text": [
      "[1, 2, 3.1, 'Machine', False]\n"
     ]
    }
   ],
   "source": [
    "# List allow multiple datatpes\n",
    "Li=[1,2,3.1,\"Machine\",False]\n",
    "print(Li)"
   ]
  },
  {
   "cell_type": "code",
   "execution_count": 30,
   "id": "d34c9864",
   "metadata": {},
   "outputs": [
    {
     "name": "stdout",
     "output_type": "stream",
     "text": [
      "[1, 2, 3.1, 'Machine', False, 'learning']\n"
     ]
    }
   ],
   "source": [
    "#add element to a list\n",
    "Li=[1,2,3.1,\"Machine\",False]\n",
    "Li.append(\"learning\")\n",
    "print(Li)"
   ]
  },
  {
   "cell_type": "code",
   "execution_count": 31,
   "id": "f7cdc782",
   "metadata": {},
   "outputs": [
    {
     "name": "stdout",
     "output_type": "stream",
     "text": [
      "False\n",
      "1\n"
     ]
    }
   ],
   "source": [
    "#print elements of list using their index\n",
    "print(Li[4])\n",
    "print(Li[0])"
   ]
  },
  {
   "cell_type": "code",
   "execution_count": 32,
   "id": "fb8ff255",
   "metadata": {},
   "outputs": [
    {
     "name": "stdout",
     "output_type": "stream",
     "text": [
      "[1, 1, 1, 1, 1, 0, 5, 5, 'english', True, True]\n"
     ]
    }
   ],
   "source": [
    "#list can have duplicate values\n",
    "List1=[1,1,1,1,1,0,5,5,'english',True,True]\n",
    "print(List1)"
   ]
  },
  {
   "cell_type": "code",
   "execution_count": 33,
   "id": "ff6989c5",
   "metadata": {},
   "outputs": [
    {
     "name": "stdout",
     "output_type": "stream",
     "text": [
      "11\n",
      "6\n"
     ]
    }
   ],
   "source": [
    "#check no. of elements in List\n",
    "print(len(List1))\n",
    "print(len(Li))"
   ]
  },
  {
   "cell_type": "code",
   "execution_count": 34,
   "id": "d7e507c6",
   "metadata": {},
   "outputs": [
    {
     "name": "stdout",
     "output_type": "stream",
     "text": [
      "[]\n"
     ]
    }
   ],
   "source": [
    "#initializing a empty list\n",
    "li=[]\n",
    "print(li)"
   ]
  },
  {
   "cell_type": "code",
   "execution_count": 35,
   "id": "2852a620",
   "metadata": {},
   "outputs": [
    {
     "name": "stdout",
     "output_type": "stream",
     "text": [
      "[5]\n"
     ]
    }
   ],
   "source": [
    "li.append(5)\n",
    "print(li)"
   ]
  },
  {
   "cell_type": "code",
   "execution_count": 36,
   "id": "5154842a",
   "metadata": {},
   "outputs": [
    {
     "name": "stdout",
     "output_type": "stream",
     "text": [
      "[1, 2, 3.1, 'Machine', False, 'learning']\n",
      "[1, 2, 3.1, False, 'learning']\n"
     ]
    }
   ],
   "source": [
    "#deleting element in a list\n",
    "print(Li)\n",
    "del Li[3]\n",
    "print(Li)"
   ]
  },
  {
   "cell_type": "code",
   "execution_count": 37,
   "id": "d04fbdf2",
   "metadata": {},
   "outputs": [
    {
     "name": "stdout",
     "output_type": "stream",
     "text": [
      "[1, 2, 3, 4, 5]\n",
      "[6, 7, 8, 9, 10]\n",
      "[1, 2, 3, 4, 5, 6, 7, 8, 9, 10]\n"
     ]
    }
   ],
   "source": [
    "List_1=[1,2,3,4,5]\n",
    "print(List_1)\n",
    "List_2=[6,7,8,9,10]\n",
    "print(List_2)\n",
    "list3=List_1+List_2\n",
    "print(list3)"
   ]
  },
  {
   "cell_type": "code",
   "execution_count": 38,
   "id": "e05a1f21",
   "metadata": {},
   "outputs": [
    {
     "name": "stdout",
     "output_type": "stream",
     "text": [
      "(1, 2, 3, 4, 5)\n"
     ]
    },
    {
     "data": {
      "text/plain": [
       "tuple"
      ]
     },
     "execution_count": 38,
     "metadata": {},
     "output_type": "execute_result"
    }
   ],
   "source": [
    "#TUPLE(same as list but these are immutable)\n",
    "tup1=(1,2,3,4,5)\n",
    "print(tup1)\n",
    "type(tup1)"
   ]
  },
  {
   "cell_type": "code",
   "execution_count": 39,
   "id": "8e144636",
   "metadata": {},
   "outputs": [
    {
     "name": "stdout",
     "output_type": "stream",
     "text": [
      "(1, 2, 3.1, 'Machine', False)\n"
     ]
    }
   ],
   "source": [
    "#tuple also allows multiple datatypes\n",
    "tuple_2=(1,2,3.1,\"Machine\",False)\n",
    "print(tuple_2)"
   ]
  },
  {
   "cell_type": "code",
   "execution_count": 40,
   "id": "2e31b0a9",
   "metadata": {},
   "outputs": [
    {
     "name": "stdout",
     "output_type": "stream",
     "text": [
      "[1, 2, 3.1, 'Machine', False]\n",
      "(1, 2, 3.1, 'Machine', False)\n"
     ]
    }
   ],
   "source": [
    "#converting a list to tuple\n",
    "list1=[1,2,3.1,\"Machine\",False]\n",
    "print(list1)\n",
    "new_tuple=tuple(list1)\n",
    "print(new_tuple)\n"
   ]
  },
  {
   "cell_type": "code",
   "execution_count": 41,
   "id": "39862ada",
   "metadata": {},
   "outputs": [
    {
     "name": "stdout",
     "output_type": "stream",
     "text": [
      "(1, 2, 3.1, 'Machine', False)\n"
     ]
    },
    {
     "ename": "AttributeError",
     "evalue": "'tuple' object has no attribute 'append'",
     "output_type": "error",
     "traceback": [
      "\u001b[1;31m---------------------------------------------------------------------------\u001b[0m",
      "\u001b[1;31mAttributeError\u001b[0m                            Traceback (most recent call last)",
      "Cell \u001b[1;32mIn[41], line 3\u001b[0m\n\u001b[0;32m      1\u001b[0m \u001b[38;5;66;03m#tupples are immutable\u001b[39;00m\n\u001b[0;32m      2\u001b[0m \u001b[38;5;28mprint\u001b[39m(tuple_2)\n\u001b[1;32m----> 3\u001b[0m \u001b[43mtuple_2\u001b[49m\u001b[38;5;241;43m.\u001b[39;49m\u001b[43mappend\u001b[49m(\u001b[38;5;241m4\u001b[39m)\n",
      "\u001b[1;31mAttributeError\u001b[0m: 'tuple' object has no attribute 'append'"
     ]
    }
   ],
   "source": [
    "#tupples are immutable\n",
    "print(tuple_2)\n",
    "tuple_2.append(4)"
   ]
  },
  {
   "cell_type": "code",
   "execution_count": null,
   "id": "a9e76e71",
   "metadata": {},
   "outputs": [],
   "source": [
    "print(len(tuple_2))"
   ]
  },
  {
   "cell_type": "code",
   "execution_count": null,
   "id": "f3960a0f",
   "metadata": {},
   "outputs": [],
   "source": [
    "#SET(in curly braces and no duplicate values are there)\n",
    "Set_1={1,2,3,4,4,5,6,6,6}\n",
    "print(Set_1)\n",
    "type(Set_1)"
   ]
  },
  {
   "cell_type": "code",
   "execution_count": null,
   "id": "6b402c0a",
   "metadata": {},
   "outputs": [],
   "source": [
    "#set does not support indexing\n",
    "print(Set_1[4])"
   ]
  },
  {
   "cell_type": "code",
   "execution_count": null,
   "id": "60dcd546",
   "metadata": {},
   "outputs": [],
   "source": [
    "#convert list to a set\n",
    "list_4=[0,9,8,7,6,5]\n",
    "print(list_4)\n",
    "new_set=set(list_4)\n",
    "print(new_set)"
   ]
  },
  {
   "cell_type": "code",
   "execution_count": null,
   "id": "c800865d",
   "metadata": {},
   "outputs": [],
   "source": [
    "#Dictionary(Key-Value pair)\n",
    "dict1={'name':'Uma','age':19,'Nationality':'India'}\n",
    "print(dict1)\n",
    "type(dict1)"
   ]
  },
  {
   "cell_type": "code",
   "execution_count": null,
   "id": "2167cc62",
   "metadata": {},
   "outputs": [],
   "source": [
    "print(dict1['name'])\n",
    "print(dict1['age'])\n",
    "print(dict1['Nationality'])"
   ]
  },
  {
   "cell_type": "code",
   "execution_count": null,
   "id": "78d54a38",
   "metadata": {},
   "outputs": [],
   "source": [
    "#dictionary does nor allow duplicate values\n",
    "dict2={'name':'Uma','age':19,'Nationality':'India','name':'Uma','age':19}\n",
    "print(dict2)"
   ]
  },
  {
   "cell_type": "markdown",
   "id": "d9ed0771",
   "metadata": {},
   "source": [
    "# Operations in python\n",
    "1.Arithematic Operations\n",
    "\n",
    "2.Assignment Operations\n",
    "\n",
    "3.Comparision Operations\n",
    "\n",
    "4.Logical Operations\n",
    "\n",
    "5.Identity Operations\n",
    "\n",
    "6.Membership Operations"
   ]
  },
  {
   "cell_type": "code",
   "execution_count": null,
   "id": "83ab6a35",
   "metadata": {},
   "outputs": [],
   "source": [
    "#Arithmatic  Operation\n",
    "num1=7\n",
    "num2=3\n",
    "#addition\n",
    "sum=num1+num2\n",
    "print('sum=',sum)\n",
    "#substraction\n",
    "diff=num1-num2\n",
    "print('diff=',diff)\n",
    "#multiplication\n",
    "mult=num1*num2\n",
    "print('mult=',mult)\n",
    "#division\n",
    "divi=num1/num2\n",
    "print('divi=',divi)\n",
    "#exponent\n",
    "expo=num1**num2\n",
    "print('expo=',expo)\n",
    "#modulus\n",
    "mod=num1%num2\n",
    "print('mod=',mod)\n"
   ]
  },
  {
   "cell_type": "code",
   "execution_count": null,
   "id": "86fd4f2a",
   "metadata": {},
   "outputs": [],
   "source": [
    "#Assignment Operators\n",
    "a=2\n",
    "print(a)\n",
    "a+=7  #a=a+7\n",
    "print(a)\n",
    "b=9\n",
    "b-=3\n",
    "print(b)"
   ]
  },
  {
   "cell_type": "code",
   "execution_count": null,
   "id": "97e19e59",
   "metadata": {},
   "outputs": [],
   "source": [
    "#comparision operator\n",
    "a=2\n",
    "b=9\n",
    "print(a==b)\n",
    "print(a!=b)\n",
    "print(a>b)\n",
    "print(a<b)\n",
    "print(a>=b)\n",
    "print(a<=b)"
   ]
  },
  {
   "cell_type": "code",
   "execution_count": null,
   "id": "f26a2d86",
   "metadata": {},
   "outputs": [],
   "source": [
    "#logical operators(and,or,not)\n",
    "a=20\n",
    "print(a>20 and a>5)\n",
    "print(a>20 or a>5)\n",
    "print(a==20 and a>5)\n",
    "print(not a>5)"
   ]
  },
  {
   "cell_type": "code",
   "execution_count": null,
   "id": "8bdaaf2e",
   "metadata": {},
   "outputs": [],
   "source": [
    "#IDENTITY OPERATOR(is)\n",
    "a=50\n",
    "b=50\n",
    "print(a is b)\n",
    "a=50\n",
    "b=60\n",
    "print(a is not b)"
   ]
  },
  {
   "cell_type": "code",
   "execution_count": null,
   "id": "df0a62b4",
   "metadata": {},
   "outputs": [],
   "source": [
    "#membership operator(in,in not)\n",
    "a=6\n",
    "b=11\n",
    "c=[1,2,3,4,5,6,7,8,9]\n",
    "print(a not in c)\n",
    "print(b not in  c)"
   ]
  },
  {
   "cell_type": "markdown",
   "id": "b50f6a48",
   "metadata": {},
   "source": [
    "# if else statements\n"
   ]
  },
  {
   "cell_type": "code",
   "execution_count": null,
   "id": "08c77a7b",
   "metadata": {},
   "outputs": [],
   "source": [
    "a=30\n",
    "b=50\n",
    "if(a>b):\n",
    "    print('a is gretest')\n",
    "else:\n",
    "    print('b is grerest')"
   ]
  },
  {
   "cell_type": "code",
   "execution_count": null,
   "id": "097f5637",
   "metadata": {},
   "outputs": [],
   "source": [
    "a=int(input('enter first no.'))\n",
    "b=int(input('enter second no.'))\n",
    "if(a>b):\n",
    "    print('first is gretest')\n",
    "else:\n",
    "    print('second is grerest')"
   ]
  },
  {
   "cell_type": "code",
   "execution_count": null,
   "id": "dc6c4645",
   "metadata": {},
   "outputs": [],
   "source": [
    "a=19\n",
    "b=9\n",
    "c=29\n",
    "if(b<a>c):\n",
    "    print('a is gretest')\n",
    "elif(a<b>c):\n",
    "    print('b is gretest')\n",
    "else:\n",
    "    print('c is gretest')"
   ]
  },
  {
   "cell_type": "markdown",
   "id": "e80533d6",
   "metadata": {},
   "source": [
    "# loops in python\n"
   ]
  },
  {
   "cell_type": "code",
   "execution_count": null,
   "id": "2f0d012e",
   "metadata": {},
   "outputs": [],
   "source": [
    "employee1=int(input('enter salary of employee'))\n",
    "employee2=int(input('enter salary of employee'))\n",
    "employee3=int(input('enter salary of employee'))\n",
    "employee4=int(input('enter salary of employee'))\n",
    "employee5=int(input('enter salary of employee'))"
   ]
  },
  {
   "cell_type": "code",
   "execution_count": 1,
   "id": "d7eabba2",
   "metadata": {},
   "outputs": [
    {
     "name": "stdout",
     "output_type": "stream",
     "text": [
      "enter salary of employee456\n",
      "enter salary of employee456\n",
      "enter salary of employee345\n",
      "enter salary of employee45\n",
      "enter salary of employee45\n"
     ]
    }
   ],
   "source": [
    "for i in range(5):\n",
    "    salary=int(input('enter salary of employee'))"
   ]
  },
  {
   "cell_type": "code",
   "execution_count": 42,
   "id": "0cd0229e",
   "metadata": {},
   "outputs": [
    {
     "name": "stdout",
     "output_type": "stream",
     "text": [
      "99\n",
      "154\n",
      "66\n",
      "98\n",
      "745\n",
      "45\n"
     ]
    }
   ],
   "source": [
    "num_list=[99,154,66,98,745,45]\n",
    "for i in num_list:\n",
    "        print(i)"
   ]
  },
  {
   "cell_type": "code",
   "execution_count": 43,
   "id": "1a2ff194",
   "metadata": {},
   "outputs": [
    {
     "name": "stdout",
     "output_type": "stream",
     "text": [
      "0\n",
      "1\n",
      "2\n",
      "3\n",
      "4\n",
      "5\n",
      "6\n",
      "7\n",
      "8\n",
      "9\n"
     ]
    }
   ],
   "source": [
    "i=0\n",
    "while i<10:\n",
    "    print(i)\n",
    "    i+=1"
   ]
  },
  {
   "cell_type": "code",
   "execution_count": 45,
   "id": "3b9cda69",
   "metadata": {},
   "outputs": [
    {
     "name": "stdout",
     "output_type": "stream",
     "text": [
      "enter your no.5\n",
      "120\n"
     ]
    }
   ],
   "source": [
    "#functions(block of code that can be reused in the program)\n",
    "#factorial program\n",
    "num=int(input('enter your no.'))\n",
    "#simpler way\n",
    "factorial=1\n",
    "if num==0:\n",
    "    print(\"factorial of 0 1s 1\")\n",
    "else:\n",
    "    for i in range(1,num+1):\n",
    "        factorial=factorial*i\n",
    "    print(factorial)"
   ]
  },
  {
   "cell_type": "code",
   "execution_count": 53,
   "id": "1b372930",
   "metadata": {},
   "outputs": [],
   "source": [
    "#by function\n",
    "def factorial_num(num):\n",
    "    factorial=1\n",
    "    if num==0:\n",
    "        return factorial\n",
    "    else:\n",
    "        for i in range(1,num+1):\n",
    "            factorial=factorial*i\n",
    "        return factorial"
   ]
  },
  {
   "cell_type": "code",
   "execution_count": 54,
   "id": "652603a2",
   "metadata": {},
   "outputs": [
    {
     "name": "stdout",
     "output_type": "stream",
     "text": [
      "120\n"
     ]
    }
   ],
   "source": [
    "print(factorial_num(5))"
   ]
  },
  {
   "cell_type": "code",
   "execution_count": 55,
   "id": "23c3b293",
   "metadata": {},
   "outputs": [
    {
     "name": "stdout",
     "output_type": "stream",
     "text": [
      "3628800\n"
     ]
    }
   ],
   "source": [
    "print(factorial_num(10))"
   ]
  },
  {
   "cell_type": "code",
   "execution_count": null,
   "id": "cfb692ac",
   "metadata": {},
   "outputs": [],
   "source": []
  }
 ],
 "metadata": {
  "kernelspec": {
   "display_name": "Python 3 (ipykernel)",
   "language": "python",
   "name": "python3"
  },
  "language_info": {
   "codemirror_mode": {
    "name": "ipython",
    "version": 3
   },
   "file_extension": ".py",
   "mimetype": "text/x-python",
   "name": "python",
   "nbconvert_exporter": "python",
   "pygments_lexer": "ipython3",
   "version": "3.10.9"
  }
 },
 "nbformat": 4,
 "nbformat_minor": 5
}
